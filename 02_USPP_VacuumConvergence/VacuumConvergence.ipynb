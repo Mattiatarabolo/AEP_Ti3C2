{
 "cells": [
  {
   "cell_type": "code",
   "execution_count": 2,
   "id": "67263558-2ae6-49fc-b5a3-c2619f76a28b",
   "metadata": {},
   "outputs": [],
   "source": [
    "import matplotlib.pyplot as plt\n",
    "import numpy as np\n",
    "%matplotlib widget"
   ]
  },
  {
   "cell_type": "code",
   "execution_count": 3,
   "id": "da8209c6-5ad4-4660-9c78-528132c90b34",
   "metadata": {
    "tags": []
   },
   "outputs": [
    {
     "name": "stdout",
     "output_type": "stream",
     "text": [
      "[2, 5, 7, 10, 12, 15, 17, 20, 22, 25, 30] [0.0035641365284014835, 0.0013541465520186915, 0.0006153610688352226, 0.00023964563043663703, 0.00015071398962517024, 0.00010801514160887736, 0.0001268011622587911, 0.00010415088442182413, 0.00013233091031719814, 8.32158433004064e-05, 0.0001425278134822038]\n"
     ]
    }
   ],
   "source": [
    "Ebulk = -384.20297405\n",
    "A = np.sqrt(3)/2*5.803\n",
    "\n",
    "with open(\"energy.dat\",\"r\") as f:\n",
    "    lines = f.readlines()\n",
    "    gamma = []\n",
    "    ecut = []\n",
    "    for line in lines:\n",
    "        splitline = line.split()\n",
    "        ecut.append(int(splitline[0]))\n",
    "        gamma.append((float(splitline[1])-Ebulk)/(2*A))\n",
    "    print(ecut,gamma)\n"
   ]
  },
  {
   "cell_type": "code",
   "execution_count": 4,
   "id": "a650302d-9ff5-4374-aa8c-daf460a9f021",
   "metadata": {},
   "outputs": [
    {
     "data": {
      "application/vnd.jupyter.widget-view+json": {
       "model_id": "c1311fe4fa434ff48f6aa54120a09803",
       "version_major": 2,
       "version_minor": 0
      },
      "text/plain": [
       "Canvas(toolbar=Toolbar(toolitems=[('Home', 'Reset original view', 'home', 'home'), ('Back', 'Back to previous …"
      ]
     },
     "metadata": {},
     "output_type": "display_data"
    }
   ],
   "source": [
    "plt.figure()\n",
    "plt.plot(ecut,gamma,'.-',markersize = 3.5)\n",
    "plt.grid()\n",
    "plt.xlabel(\"$Vacuum$  [Bohr]\")\n",
    "plt.ylabel(\"$\\gamma$  [$Ry/Bohr^2$]\")\n",
    "plt.plot([10,10],[min(gamma),max(gamma)],'r--')\n",
    "plt.savefig('Energy-vs-Vacuum.pdf')"
   ]
  },
  {
   "cell_type": "code",
   "execution_count": 5,
   "id": "303578f2-1124-4d75-a0aa-60db35c52e2f",
   "metadata": {},
   "outputs": [],
   "source": [
    "emin = min(gamma)\n",
    "#varia = [abs(x-emin)*1000 for x in energies]\n",
    "varia = abs(np.diff(gamma))*1000"
   ]
  },
  {
   "cell_type": "code",
   "execution_count": 6,
   "id": "a0173fec-2f7f-4f41-ab79-9325c49eadb5",
   "metadata": {},
   "outputs": [
    {
     "data": {
      "application/vnd.jupyter.widget-view+json": {
       "model_id": "2f7a41a5040d481486c6f8f1810c078c",
       "version_major": 2,
       "version_minor": 0
      },
      "text/plain": [
       "Canvas(toolbar=Toolbar(toolitems=[('Home', 'Reset original view', 'home', 'home'), ('Back', 'Back to previous …"
      ]
     },
     "metadata": {},
     "output_type": "display_data"
    }
   ],
   "source": [
    "plt. figure()\n",
    "plt.plot(ecut[:-1],varia,'.-',markersize = 3.5)\n",
    "plt.grid()\n",
    "plt.xlabel(\"$Vacuum$  [Bohr]\")\n",
    "plt.ylabel(\"$\\Delta\\gamma$  [$mRy/Bohr^2$]\")\n",
    "plt.plot([10,10],[min(varia),max(varia)],'r--')\n",
    "plt.savefig('DeltaEnergy-vs-Vacuum.pdf')"
   ]
  },
  {
   "cell_type": "code",
   "execution_count": null,
   "id": "6aeeee05-826c-451b-8911-06e479c7322c",
   "metadata": {},
   "outputs": [],
   "source": []
  }
 ],
 "metadata": {
  "kernelspec": {
   "display_name": "Python 3",
   "language": "python",
   "name": "python3"
  },
  "language_info": {
   "codemirror_mode": {
    "name": "ipython",
    "version": 3
   },
   "file_extension": ".py",
   "mimetype": "text/x-python",
   "name": "python",
   "nbconvert_exporter": "python",
   "pygments_lexer": "ipython3",
   "version": "3.8.10"
  }
 },
 "nbformat": 4,
 "nbformat_minor": 5
}
