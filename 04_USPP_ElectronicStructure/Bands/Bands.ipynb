{
 "cells": [
  {
   "cell_type": "code",
   "execution_count": 1,
   "id": "cb1e4bfe-4342-4975-aa5c-366bdfe14417",
   "metadata": {},
   "outputs": [],
   "source": [
    "import matplotlib.pyplot as plt\n",
    "import numpy as np\n",
    "%matplotlib widget"
   ]
  },
  {
   "cell_type": "code",
   "execution_count": 2,
   "id": "b2b049fb-490f-4227-a8e5-cdcf881ef2d4",
   "metadata": {},
   "outputs": [],
   "source": [
    "with open(\"bands_TiC.gnu\",\"r\") as f:\n",
    "    lines = f.readlines()\n",
    "    positions = []\n",
    "    energies = []\n",
    "    pos = []\n",
    "    en = []\n",
    "\n",
    "    for line in lines:\n",
    "        if line == \"\\n\":\n",
    "            positions.append(pos)\n",
    "            energies.append(en)\n",
    "            pos = []\n",
    "            en = []\n",
    "            continue\n",
    "        splitline = line.split()\n",
    "        pos.append(float(splitline[0]))\n",
    "        en.append(float(splitline[1])+4.8968)\n"
   ]
  },
  {
   "cell_type": "code",
   "execution_count": 10,
   "id": "3d23003d-474e-4e9e-9008-26ea856499e6",
   "metadata": {},
   "outputs": [
    {
     "data": {
      "application/vnd.jupyter.widget-view+json": {
       "model_id": "a11e8115bf274d8690f28c25e4099958",
       "version_major": 2,
       "version_minor": 0
      },
      "text/plain": [
       "Canvas(toolbar=Toolbar(toolitems=[('Home', 'Reset original view', 'home', 'home'), ('Back', 'Back to previous …"
      ]
     },
     "metadata": {},
     "output_type": "display_data"
    }
   ],
   "source": [
    "plt.figure()\n",
    "i = 0\n",
    "for pos in positions:\n",
    "    plt.plot(pos,energies[i],'k',linewidth= 0.8)\n",
    "    i += 1\n",
    "plt.plot([0.5730, 0.5730], [min(energies[0])*110/100,4.8748], 'k',linewidth = 1.5)\n",
    "plt.plot([ 0.9038,  0.9038], [min(energies[0])*110/100,4.8748], 'k',linewidth = 1.5)\n",
    "plt.plot([0.0000, 1.5654], [0,0], '--r')\n",
    "plt.ylabel(\"$E-E_F$ [eV]\")\n",
    "plt.xlim((0, 1.5654))\n",
    "plt.ylim((min(energies[0])*102/100,4.8748))\n",
    "#plt.ylim((-6,3.3))\n",
    "plt.xticks(ticks = [0.0000, 0.5730, 0.9038, 1.5654], labels= [\"$\\Gamma$\", \"$M$\", \"$K$\", \"$\\Gamma$\"])\n",
    "#plt.plot([10,10],[min(energies),max(energies)],'r--')\n",
    "plt.savefig('Bands.pdf')"
   ]
  },
  {
   "cell_type": "code",
   "execution_count": null,
   "id": "af2d0523-587d-4837-9dc7-854b5f233e33",
   "metadata": {},
   "outputs": [],
   "source": []
  }
 ],
 "metadata": {
  "kernelspec": {
   "display_name": "Python 3",
   "language": "python",
   "name": "python3"
  },
  "language_info": {
   "codemirror_mode": {
    "name": "ipython",
    "version": 3
   },
   "file_extension": ".py",
   "mimetype": "text/x-python",
   "name": "python",
   "nbconvert_exporter": "python",
   "pygments_lexer": "ipython3",
   "version": "3.8.10"
  }
 },
 "nbformat": 4,
 "nbformat_minor": 5
}
