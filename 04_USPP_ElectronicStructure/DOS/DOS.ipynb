{
 "cells": [
  {
   "cell_type": "code",
   "execution_count": 1,
   "id": "cb1e4bfe-4342-4975-aa5c-366bdfe14417",
   "metadata": {},
   "outputs": [],
   "source": [
    "import matplotlib.pyplot as plt\n",
    "import numpy as np\n",
    "%matplotlib widget"
   ]
  },
  {
   "cell_type": "code",
   "execution_count": 2,
   "id": "b2b049fb-490f-4227-a8e5-cdcf881ef2d4",
   "metadata": {
    "tags": []
   },
   "outputs": [],
   "source": [
    "doses = []\n",
    "energies = []\n",
    "for k in [6, 12, 18, 24, 30, 36]:\n",
    "    with open(\"TiC_\"+str(k)+\".dos\",\"r\") as f:\n",
    "        lines = f.readlines()\n",
    "        efermi = float(lines[0].split()[8])\n",
    "        lines = lines[1:]\n",
    "        dos = []\n",
    "        energy = []\n",
    "\n",
    "        for line in lines:\n",
    "            splitline = line.split()\n",
    "            energy.append(float(splitline[0])-efermi)\n",
    "            dos.append(float(splitline[1])/2)\n",
    "            \n",
    "    doses.append(dos)\n",
    "    energies.append(energy)"
   ]
  },
  {
   "cell_type": "code",
   "execution_count": 9,
   "id": "3d23003d-474e-4e9e-9008-26ea856499e6",
   "metadata": {},
   "outputs": [
    {
     "data": {
      "application/vnd.jupyter.widget-view+json": {
       "model_id": "38e598e00c5c43db80498535841e0149",
       "version_major": 2,
       "version_minor": 0
      },
      "text/plain": [
       "Canvas(toolbar=Toolbar(toolitems=[('Home', 'Reset original view', 'home', 'home'), ('Back', 'Back to previous …"
      ]
     },
     "metadata": {},
     "output_type": "display_data"
    }
   ],
   "source": [
    "plt.figure()\n",
    "i = 0\n",
    "k = [6, 12, 18, 24, 30, 36]\n",
    "for energy in energies:\n",
    "    plt.plot(energy,doses[i],linewidth= 0.8, label=str(k[i]))\n",
    "    i += 1\n",
    "plt.plot([0,0],[0,175],'--r')\n",
    "plt.ylabel(\"DOS [states/$eV$/spin/cell]\")\n",
    "plt.xlabel(\"$E-E_F$  [$eV$]\")\n",
    "plt.legend()\n",
    "#plt.xlim((min(energies[0]),max(energies[0])))\n",
    "#plt.ylim((0,175))\n",
    "#plt.savefig('DOSconvergence.pdf')\n",
    "plt.xlim((-1.80,max(energies[0])))\n",
    "plt.ylim((0,40))\n",
    "plt.savefig('DOSconvergenceZoom.pdf')"
   ]
  },
  {
   "cell_type": "code",
   "execution_count": 12,
   "id": "97d16526-7923-48b1-8517-4e332b3760af",
   "metadata": {
    "tags": []
   },
   "outputs": [],
   "source": [
    "with open(\"TiC_30_final.dos\",\"r\") as f:\n",
    "    lines = f.readlines()\n",
    "    efermi = float(lines[0].split()[8])\n",
    "    lines = lines[1:]\n",
    "    dos = []\n",
    "    energy = []\n",
    "\n",
    "    for line in lines:\n",
    "        splitline = line.split()\n",
    "        energy.append(float(splitline[0])-efermi)\n",
    "        dos.append(float(splitline[1])/2)\n",
    "        \n",
    "eldens = [2*dos[i]*(energy[i+1]-energy[i]) for i in range(len(dos)-1)]\n",
    "eldens = np.cumsum(eldens)"
   ]
  },
  {
   "cell_type": "code",
   "execution_count": 20,
   "id": "12555852-8c81-486c-8110-7b9d0cad953c",
   "metadata": {},
   "outputs": [
    {
     "data": {
      "application/vnd.jupyter.widget-view+json": {
       "model_id": "84378bbcf5704def942ad662eb45ef00",
       "version_major": 2,
       "version_minor": 0
      },
      "text/plain": [
       "Canvas(toolbar=Toolbar(toolitems=[('Home', 'Reset original view', 'home', 'home'), ('Back', 'Back to previous …"
      ]
     },
     "metadata": {},
     "output_type": "display_data"
    }
   ],
   "source": [
    "plt.figure()\n",
    "plt.plot(energy,dos,'k')\n",
    "plt.plot([0,0],[0,175],'--r')\n",
    "plt.ylabel(\"DOS [states/$eV$/spin/cell]\")\n",
    "plt.xlabel(\"$E-E_F$  [$eV$]\")\n",
    "#plt.xlim((min(energies[0]),max(energies[0])))\n",
    "#plt.ylim((0,70))\n",
    "#plt.savefig('DOS.pdf')\n",
    "plt.xlim((-1.7,max(energies[0])))\n",
    "plt.ylim((0,5.5))\n",
    "plt.savefig('DOSZoom.pdf')"
   ]
  },
  {
   "cell_type": "code",
   "execution_count": 21,
   "id": "ef0de93f-87b6-479a-903c-2924c3d7d0d7",
   "metadata": {},
   "outputs": [
    {
     "data": {
      "application/vnd.jupyter.widget-view+json": {
       "model_id": "9fe5223b92c4407f88185f675b2bfd5e",
       "version_major": 2,
       "version_minor": 0
      },
      "text/plain": [
       "Canvas(toolbar=Toolbar(toolitems=[('Home', 'Reset original view', 'home', 'home'), ('Back', 'Back to previous …"
      ]
     },
     "metadata": {},
     "output_type": "display_data"
    }
   ],
   "source": [
    "plt.figure()\n",
    "plt.plot(energy[:-1],eldens,'k')\n",
    "#plt.plot([0,0],[0,175],'--r')\n",
    "plt.ylabel(\"Electron density [states/cell]\")\n",
    "plt.xlabel(\"$E-E_F$  [$eV$]\")\n",
    "plt.grid()\n",
    "#plt.xlim((min(energies[0]),max(energies[0])))\n",
    "#plt.ylim((0,120))\n",
    "#plt.savefig('DOS.pdf')\n",
    "#plt.xlim((-2.0,max(energies[0])))\n",
    "#plt.ylim((0,8))\n",
    "#plt.savefig('DOSZoom.pdf')"
   ]
  },
  {
   "cell_type": "code",
   "execution_count": null,
   "id": "f2f0f2e7-35d6-4a25-a06d-060ec61c03e1",
   "metadata": {},
   "outputs": [],
   "source": []
  }
 ],
 "metadata": {
  "kernelspec": {
   "display_name": "Python 3",
   "language": "python",
   "name": "python3"
  },
  "language_info": {
   "codemirror_mode": {
    "name": "ipython",
    "version": 3
   },
   "file_extension": ".py",
   "mimetype": "text/x-python",
   "name": "python",
   "nbconvert_exporter": "python",
   "pygments_lexer": "ipython3",
   "version": "3.8.10"
  }
 },
 "nbformat": 4,
 "nbformat_minor": 5
}
